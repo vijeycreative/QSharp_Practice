{
 "cells": [
  {
   "cell_type": "markdown",
   "metadata": {},
   "source": [
    "# Week 3\n",
    "\n",
    "The tasks cover the following topics:\n",
    "- teleportation\n",
    "- superdense coding\n",
    "- phase oracles\n",
    "- Deutsch, Deutsch-Jozsa and Bernstein-Vazirani algorithms\n",
    "\n",
    "We recommend to solve the following katas and tutorials before doing these assignments:\n",
    "- Teleportation kata\n",
    "- SuperdenseCoding kata\n",
    "- ExploringDeutschJozsaAlgorithm tutorial \n",
    "\n",
    "from https://github.com/Microsoft/QuantumKatas."
   ]
  },
  {
   "cell_type": "markdown",
   "metadata": {},
   "source": [
    "## Part I. Phase oracles and algorithms\n",
    "\n",
    "In this section the oracles are defined as unitaries that introduce phases to certain computational basis states, as described in the lecture."
   ]
  },
  {
   "cell_type": "markdown",
   "metadata": {},
   "source": [
    "### Task 1.1. (Phase oracles for Deutsch algorithm)\n",
    "**Inputs:**\n",
    "1. a qubit in an arbitrary state (function input)\n",
    "2. an integer F which defines which function to implement:  \n",
    " - F = 0 : $f(x) = 0$\n",
    " - F = 1 : $f(x) = 1$\n",
    " - F = 2 : $f(x) = x$\n",
    " - F = 3 : $f(x) = 1 - x$\n",
    "\n",
    "**Goal:** implement a unitary that transforms each basis state $|x⟩$ into state $(-1)^{f(x)} |x⟩$.  \n",
    "\n",
    "You are not allowed to allocate extra qubits."
   ]
  },
  {
   "cell_type": "code",
   "execution_count": 37,
   "metadata": {},
   "outputs": [
    {
     "name": "stdout",
     "output_type": "stream",
     "text": [
      "Testing F = 0\n",
      "Testing F = 1\n",
      "Testing F = 2\n",
      "Testing F = 3\n"
     ]
    },
    {
     "data": {
      "application/x-qsharp-data": "\"Success!\"",
      "text/plain": [
       "Success!"
      ]
     },
     "execution_count": 37,
     "metadata": {},
     "output_type": "execute_result"
    }
   ],
   "source": [
    "%kata T11_Test\n",
    "open Microsoft.Quantum.Math;\n",
    "\n",
    "operation Task11 (x : Qubit, F : Int) : Unit is Adj+Ctl {\n",
    "    // ...\n",
    "    if (F >= 2) {\n",
    "        Z(x);\n",
    "    }\n",
    "    if (F == 1 or F == 3) {\n",
    "        R(PauliI, 2.0 * PI(), x);\n",
    "    }\n",
    "}"
   ]
  },
  {
   "cell_type": "markdown",
   "metadata": {},
   "source": [
    "### Task 1.2. (Deutsch Algorithm)\n",
    "**Input:** a quantum operation - the oracle $|x\\rangle \\rightarrow (-1)^{f(x)}|x\\rangle$, where $f(x)$ is one of the functions implemented in task 1.1.\n",
    "\n",
    "**Output:** $f(0) \\oplus f(1)$, i.e., for $f(x) = 0$ or $f(x) = 1$ the output should be $0$, and for $f(x) = x$ or $f(x) = 1 - x$ the output should be $1$.  \n",
    "\n",
    "You are allowed to call the oracle exactly once."
   ]
  },
  {
   "cell_type": "code",
   "execution_count": 38,
   "metadata": {},
   "outputs": [
    {
     "name": "stdout",
     "output_type": "stream",
     "text": [
      "Testing F = 0\n",
      "Testing F = 1\n",
      "Testing F = 2\n",
      "Testing F = 3\n"
     ]
    },
    {
     "data": {
      "application/x-qsharp-data": "\"Success!\"",
      "text/plain": [
       "Success!"
      ]
     },
     "execution_count": 38,
     "metadata": {},
     "output_type": "execute_result"
    }
   ],
   "source": [
    "%kata T12_Test\n",
    "\n",
    "operation Task12 (oracle : (Qubit => Unit)) : Int {\n",
    "    // Note: F = 0 and F = 1 are Unbalanced 1-bit functions\n",
    "    //       F = 2 and F = 3 are Balanced 1-bit functions\n",
    "    use q = Qubit();\n",
    "    H(q);\n",
    "    oracle(q);\n",
    "    H(q);\n",
    "    return M(q) == Zero ? 0 | 1;\n",
    "}"
   ]
  },
  {
   "cell_type": "markdown",
   "metadata": {},
   "source": [
    "### Task 1.3. (Phase oracle for Deutsch-Jozsa algorithm)\n",
    "**Input:** two qubits in an arbitrary state (function input)  \n",
    "**Goal:** implement a unitary that transforms each basis state $|x_1x_2\\rangle$ into state $(-1)^{f(x_1, x_2)}$ $|x_1x_2\\rangle$, where $f(x_1, x_2) = 1$ if $x_1 = x_2$ and 0 otherwise.\n",
    "\n",
    "You are not allowed to allocate extra qubits."
   ]
  },
  {
   "cell_type": "code",
   "execution_count": 39,
   "metadata": {},
   "outputs": [
    {
     "data": {
      "application/x-qsharp-data": "\"Success!\"",
      "text/plain": [
       "Success!"
      ]
     },
     "execution_count": 39,
     "metadata": {},
     "output_type": "execute_result"
    }
   ],
   "source": [
    "%kata T13_Test\n",
    "\n",
    "operation Task13 (x : Qubit[]) : Unit is Adj+Ctl {\n",
    "    // ...\n",
    "    Controlled Z([x[0]], x[1]);\n",
    "    ApplyToEachCA(X, x);\n",
    "    Controlled Z([x[0]], x[1]);\n",
    "    ApplyToEachCA(X, x);\n",
    "}"
   ]
  },
  {
   "cell_type": "markdown",
   "metadata": {},
   "source": [
    "### Task 1.4. (Phase oracle for Bernstein-Vazirani algorithm)\n",
    "**Inputs:**   \n",
    "1. N qubits in an arbitrary state (function input)\n",
    "2. a bit vector of length N represented as `Bool[]` (`true` corresponds to 1 and `false` to 0)  \n",
    "\n",
    "**Goal:** implement a unitary that transforms each basis state $|x_1x_2...x_n\\rangle$ into state $(-1)^{f(x_1, x_2, ..., x_n)} |x_1 x_2...x_n\\rangle$, where $f(x_1, x_2, ..., x_n) = \\sum_i s_i x_i$ modulo 2 (i.e., the function implemented by the oracle used in Bernstein-Vazirani algorithm).\n",
    "\n",
    "You are not allowed to allocate extra qubits."
   ]
  },
  {
   "cell_type": "code",
   "execution_count": 40,
   "metadata": {},
   "outputs": [
    {
     "name": "stdout",
     "output_type": "stream",
     "text": [
      "Testing on [False,False]\n",
      "Testing on [True,False]\n",
      "Testing on [False,True]\n",
      "Testing on [True,True]\n",
      "Testing on [False,False,False]\n",
      "Testing on [True,False,False]\n",
      "Testing on [False,True,False]\n",
      "Testing on [True,True,False]\n",
      "Testing on [False,False,True]\n",
      "Testing on [True,False,True]\n",
      "Testing on [False,True,True]\n",
      "Testing on [True,True,True]\n"
     ]
    },
    {
     "data": {
      "application/x-qsharp-data": "\"Success!\"",
      "text/plain": [
       "Success!"
      ]
     },
     "execution_count": 40,
     "metadata": {},
     "output_type": "execute_result"
    }
   ],
   "source": [
    "%kata T14_Test\n",
    "\n",
    "open Microsoft.Quantum.Arrays;\n",
    "\n",
    "operation Task14 (x : Qubit[], s : Bool[]) : Unit is Adj+Ctl {\n",
    "\n",
    "    for i in IndexRange(x) {\n",
    "        if (s[i]) {\n",
    "            Z(x[i]);\n",
    "        }\n",
    "    }\n",
    "}"
   ]
  },
  {
   "cell_type": "markdown",
   "metadata": {},
   "source": [
    "## Part II. Teleportation and superdense coding"
   ]
  },
  {
   "cell_type": "markdown",
   "metadata": {},
   "source": [
    "### Task 2.1. Superdense coding using $|\\psi^-\\rangle = \\frac1{\\sqrt2}\\big(|01\\rangle - |10\\rangle\\big)$\n",
    "\n",
    "This task considers a modification of the superdense coding protocol in which the pair of qubits shared by Alice and Bob are entangled in a state $|\\psi^-\\rangle = \\frac1{\\sqrt2}\\big(|01\\rangle - |10\\rangle\\big)$.  \n",
    "\n",
    "Alice performs the standard message encoding operation, as implemented in SuperdenseCoding kata:  \n",
    "\n",
    "```\n",
    "operation EncodeMessageInQubit_Reference (qAlice : Qubit, message : Bool[]) : Unit {\n",
    "    if (message[0]) {\n",
    "        Z(qAlice);\n",
    "    }\n",
    "    if (message[1]) {\n",
    "        X(qAlice);\n",
    "    }\n",
    "}\n",
    "```\n",
    "\n",
    "After performing this operation she sends her qubit to Bob.\n",
    "\n",
    "Your task is to implement Bob's part of the protocol (the message decoding) to obtain the two bits of Alice's message."
   ]
  },
  {
   "cell_type": "code",
   "execution_count": 41,
   "metadata": {},
   "outputs": [
    {
     "data": {
      "application/x-qsharp-data": "\"Success!\"",
      "text/plain": [
       "Success!"
      ]
     },
     "execution_count": 41,
     "metadata": {},
     "output_type": "execute_result"
    }
   ],
   "source": [
    "%kata T21_Test\n",
    "\n",
    "operation Task21 (qBob : Qubit, qAlice : Qubit) : Bool[] {\n",
    "    // ...\n",
    "    Z(qBob);\n",
    "    X(qBob);\n",
    "    CNOT(qAlice, qBob);\n",
    "    H(qAlice);\n",
    "    let Alice = M(qAlice) == One;\n",
    "    let Bob = M(qBob) == One;\n",
    "    return [Alice, Bob];\n",
    "}"
   ]
  },
  {
   "cell_type": "markdown",
   "metadata": {},
   "source": [
    "### Task 2.2. Teleportation using $\\frac1{\\sqrt2}\\big(|01\\rangle + i|10\\rangle\\big)$\n",
    "\n",
    "This task considers a modification of the teleportation protocol in which the pair of qubits shared by Alice and Bob are entangled in a state $\\frac1{\\sqrt2}\\big(|01\\rangle + i|10\\rangle\\big)$, where the first qubit in ket notation denotes Alice's qubit and the second one - Bob's qubit.  \n",
    "\n",
    "Alice has a qubit in the state $|\\psi\\rangle = \\alpha|0\\rangle + \\beta|1\\rangle$.  \n",
    "Alice performs the standard message sending operation, as implemented in the Teleportation kata:\n",
    "```\n",
    "operation SendMessage_Reference (qAlice : Qubit, qMessage : Qubit) : (Bool, Bool) {\n",
    "    CNOT(qMessage, qAlice);\n",
    "    H(qMessage);\n",
    "    return (M(qMessage) == One, M(qAlice) == One);\n",
    "}\n",
    "```\n",
    "After performing this operation she sends the two measured bits to Bob.\n",
    "\n",
    "Your task is to implement Bob's part of the protocol (the fix-up), so that he ends up with a qubit in the state $|\\psi\\rangle$.\n",
    "\n",
    "You are allowed to introduce a global phase to the teleported state."
   ]
  },
  {
   "cell_type": "code",
   "execution_count": 42,
   "metadata": {},
   "outputs": [
    {
     "data": {
      "application/x-qsharp-data": "\"Success!\"",
      "text/plain": [
       "Success!"
      ]
     },
     "execution_count": 42,
     "metadata": {},
     "output_type": "execute_result"
    }
   ],
   "source": [
    "%kata T22_Test\n",
    "\n",
    "operation Task22 (qBob : Qubit, (b1 : Bool, b2 : Bool)) : Unit {\n",
    "    // ...\n",
    "    if (not b2) {\n",
    "        X(qBob);\n",
    "    }\n",
    "    if (b1 == b2) {\n",
    "        Adjoint S(qBob);\n",
    "    }\n",
    "    if (b1 != b2) {\n",
    "        S(qBob);\n",
    "    }\n",
    "}"
   ]
  },
  {
   "cell_type": "markdown",
   "metadata": {},
   "source": [
    "### Task 2.3. S-gate teleportation\n",
    "\n",
    "Alice and Bob share a qubit in the state $\\frac1{\\sqrt2}\\big(|00\\rangle - i|11\\rangle\\big)$.  \n",
    "Alice has a qubit in the state $|\\psi\\rangle = \\alpha|0\\rangle + \\beta|1\\rangle$.  \n",
    "She wants to send to Bob the state $S|\\psi\\rangle = \\alpha|0\\rangle + \\beta i|1\\rangle$ without Bob applying an $S$ gate to his qubit.  \n",
    "Alice performs the standard message sending operation, as implemented in the Teleportation kata:\n",
    "```\n",
    "operation SendMessage_Reference (qAlice : Qubit, qMessage : Qubit) : (Bool, Bool) {\n",
    "    CNOT(qMessage, qAlice);\n",
    "    H(qMessage);\n",
    "    return (M(qMessage) == One, M(qAlice) == One);\n",
    "}\n",
    "```\n",
    "She sends Bob the return of this operation.\n",
    "\n",
    "Your task is to implement Bob's part of the protocol (the fix-up), so that he ends up with a qubit in the state $S|\\psi\\rangle$.  \n",
    "You can only use Pauli and H gates; you can not use S, T or arbitrary rotation gates.\n",
    "\n",
    "You are allowed to introduce a global phase to the teleported state."
   ]
  },
  {
   "cell_type": "code",
   "execution_count": 43,
   "metadata": {},
   "outputs": [
    {
     "data": {
      "application/x-qsharp-data": "\"Success!\"",
      "text/plain": [
       "Success!"
      ]
     },
     "execution_count": 43,
     "metadata": {},
     "output_type": "execute_result"
    }
   ],
   "source": [
    "%kata T23_Test\n",
    "\n",
    "operation Task23 (qBob : Qubit, (b1 : Bool, b2 : Bool)) : Unit {\n",
    "    // ...\n",
    "    \n",
    "    if (b2) {\n",
    "        X(qBob);\n",
    "    }\n",
    "    if (b1 == b2) {\n",
    "        Z(qBob);\n",
    "    }\n",
    "}"
   ]
  }
 ],
 "metadata": {
  "kernelspec": {
   "display_name": "Q#",
   "language": "qsharp",
   "name": "iqsharp"
  },
  "language_info": {
   "file_extension": ".qs",
   "mimetype": "text/x-qsharp",
   "name": "qsharp",
   "version": "0.14"
  }
 },
 "nbformat": 4,
 "nbformat_minor": 2
}
