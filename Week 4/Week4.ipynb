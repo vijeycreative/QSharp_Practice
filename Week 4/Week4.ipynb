{
 "cells": [
  {
   "cell_type": "markdown",
   "metadata": {},
   "source": [
    "# Week 4\n",
    "\n",
    "This is the set of programming assignments for week 4.\n",
    "\n",
    "The tasks cover the following topics:\n",
    "- reversible computing\n",
    "- implementing quantum oracles\n",
    "\n",
    "We recommend to solve the following katas before doing these assignments:\n",
    "- DeutschJozsaAlgorithm (part 1)\n",
    "- GroversAlgorithm (part 1)\n",
    "- SolveSATWithGrover (parts 1 and 2)\n",
    "- GraphColoring (except task 2.3)  \n",
    "\n",
    "from https://github.com/Microsoft/QuantumKatas"
   ]
  },
  {
   "cell_type": "markdown",
   "metadata": {},
   "source": [
    "## Part I. Marking oracles for classical functions\n",
    "\n",
    "In this section the oracles are defined by their effect on computational basis states, as described in the lecture.\n",
    "\n",
    ">All oracles have to be adjointable; adjoint variant of the operation can be specified either automatically (using \"is Adj\" in the operation signature) or manually (using \"body\" and \"adjoint self\"); see https://docs.microsoft.com/en-us/quantum/user-guide/using-qsharp/operations-functions#explicit-specialization-declarations for details on how to specify variants explicitly."
   ]
  },
  {
   "cell_type": "markdown",
   "metadata": {},
   "source": [
    "### Task 1.1. $|111...000...\\rangle$ oracle\n",
    "**Inputs:**  \n",
    "1. N qubits in an arbitrary state $|x\\rangle$ (input/query register)\n",
    "2. a qubit in an arbitrary state $|y\\rangle$ (target qubit)\n",
    "\n",
    "You are guaranteed that N is an even number.\n",
    "\n",
    "**Goal:** Transform state $|x, y\\rangle$ into state $|x, y \\oplus f(x)\\rangle$ ($\\oplus$ is addition modulo 2), where $f(x) = 1$ if the first half of bits of $x$ are 1 and the second half of the bits are 0, and 0 otherwise.\n",
    "\n",
    "Leave the query register in the same state it started in.\n",
    "\n",
    "> Example: For N = 4, the oracle should mark the state 1100."
   ]
  },
  {
   "cell_type": "code",
   "execution_count": 1,
   "metadata": {},
   "outputs": [
    {
     "data": {
      "application/x-qsharp-data": "\"Success!\"",
      "text/plain": [
       "Success!"
      ]
     },
     "execution_count": 1,
     "metadata": {},
     "output_type": "execute_result"
    }
   ],
   "source": [
    "%kata T11_Test\n",
    "\n",
    "open Microsoft.Quantum.Arrays;\n",
    "\n",
    "operation Task11 (queryRegister : Qubit[], target : Qubit) : Unit is Adj {\n",
    "    // Note that your implementation has to be adjointable.\n",
    "    let num = Length(queryRegister)/2;\n",
    "    let controlArray = ConstantArray(num, true) + ConstantArray(num, false);\n",
    "    (ControlledOnBitString(controlArray, X))(queryRegister, target);\n",
    "}"
   ]
  },
  {
   "cell_type": "markdown",
   "metadata": {},
   "source": [
    "### Task 1.2. Prefix matching oracle\n",
    "**Inputs:**\n",
    "1. N qubits in an arbitrary state $|x\\rangle$ (input/query register)\n",
    "2. a qubit in an arbitrary state $|y\\rangle$ (target qubit)\n",
    "3. a bit pattern of length K represented as an `Bool[]` ($1 \\le K \\le N$).  \n",
    "\n",
    "k-th element of the pattern encodes the allowed states of the qubit `x[k]`:\n",
    "`false` and `true` values represent states $|0\\rangle$ and $|1\\rangle$, respectively. \n",
    "A prefix of length K of a state $|x\\rangle = |x_1, ..., x_n\\rangle$ is the state of its first k qubits $|x_1, ..., x_K\\rangle$.\n",
    "\n",
    "**Goal:** Transform state $|x, y\\rangle$ into state $|x, y \\oplus f(x)\\rangle$ ($\\oplus$ is addition modulo 2), where $f(x) = 1$ if the prefix of length `K` of the bit string `x` equals the given pattern, and 0 if it does not.\n",
    "    \n",
    "Leave the query register in the same state it started in.\n",
    "\n",
    "> For example, for N = 3 pattern of length 2 `[false, true]` would match two states: $|010\\rangle$ and $|011\\rangle$."
   ]
  },
  {
   "cell_type": "code",
   "execution_count": 2,
   "metadata": {},
   "outputs": [
    {
     "data": {
      "application/x-qsharp-data": "\"Success!\"",
      "text/plain": [
       "Success!"
      ]
     },
     "execution_count": 2,
     "metadata": {},
     "output_type": "execute_result"
    }
   ],
   "source": [
    "%kata T12_Test\n",
    "open Microsoft.Quantum.Arrays;\n",
    "\n",
    "operation Task12 (queryRegister : Qubit[], target : Qubit, pattern : Bool[]) : Unit is Adj {\n",
    "    // Note that your implementation has to be adjointable.\n",
    "    let prefix_len = Length(pattern);\n",
    "    let prefix = queryRegister[0..prefix_len-1];\n",
    "    (ControlledOnBitString(pattern, X))(prefix, target);\n",
    "}"
   ]
  },
  {
   "cell_type": "markdown",
   "metadata": {},
   "source": [
    "### Task 1.3. Regexp matching oracle\n",
    "**Inputs:**\n",
    "1. N qubits in an arbitrary state $|x\\rangle$ (input/query register)\n",
    "2. a qubit in an arbitrary state $|y\\rangle$ (target qubit)\n",
    "3. a bit pattern of length `N` represented as an `Int[]`.\n",
    "\n",
    "k-th element of the pattern encodes the allowed states of the qubit `x[k]`:\n",
    "0 and 1 values represent states $|0\\rangle$ and $|1\\rangle$, respectively, value $-1$ represents any state.\n",
    "\n",
    "**Goal:** Transform state $|x, y\\rangle$ into state $|x, y \\oplus f(x)\\rangle$ ($\\oplus$ is addition modulo 2), where $f(x) = 1$ if the bit string x matches the given pattern, and 0 if it does not.\n",
    "\n",
    "Leave the query register in the same state it started in.\n",
    "\n",
    "> For example, pattern `[0, -1, 1]` would match two states: $|001\\rangle$ and $|011\\rangle$; pattern `[1, -1, -1]` would match four states: $|100\\rangle$, $|101\\rangle$, $|110\\rangle$, and $|111\\rangle$."
   ]
  },
  {
   "cell_type": "code",
   "execution_count": 3,
   "metadata": {},
   "outputs": [
    {
     "data": {
      "application/x-qsharp-data": "\"Success!\"",
      "text/plain": [
       "Success!"
      ]
     },
     "execution_count": 3,
     "metadata": {},
     "output_type": "execute_result"
    }
   ],
   "source": [
    "%kata T13_Test\n",
    "open Microsoft.Quantum.Arrays;\n",
    "open Microsoft.Quantum.Logical;\n",
    "\n",
    "operation Task13 (queryRegister : Qubit[], target : Qubit, pattern : Int[]) : Unit is Adj {\n",
    "    // Note that your implementation has to be adjointable.\n",
    "    // ...\n",
    "    let predicate1 = EqualI(_, -1);\n",
    "    let predicate2 = EqualI(_, 1);\n",
    "    let predicate3 = EqualI(_, 0);\n",
    "\n",
    "    let num_Q = Length(queryRegister);\n",
    "    use q = Qubit[num_Q];\n",
    "    within{\n",
    "        for i in Where(predicate1, pattern){\n",
    "            X(q[i]);\n",
    "        }\n",
    "        for i in Where(predicate2, pattern){\n",
    "            CNOT(queryRegister[i], q[i]);\n",
    "        }\n",
    "        for i in Where(predicate3, pattern){\n",
    "            X(q[i]);\n",
    "            CNOT(queryRegister[i], q[i]);\n",
    "        }\n",
    "    }\n",
    "    apply {\n",
    "        Controlled X (q, target);\n",
    "    }\n",
    "}"
   ]
  },
  {
   "cell_type": "markdown",
   "metadata": {},
   "source": [
    "### Task 1.4. Substring searching oracle\n",
    "**Inputs:**\n",
    "1. N qubits in an arbitrary state $|x\\rangle$ (input/query register)\n",
    "2. a qubit in an arbitrary state $|y\\rangle$ (target qubit)\n",
    "3. a bit string of length K represented as `Bool[]` ($K \\le N$)\n",
    "\n",
    "k-th element of the pattern encodes the states of the qubit : `false` and `true` values represent states $|0\\rangle$ and $|1\\rangle$, respectively. \n",
    " \n",
    "**Goal:** Transform state $|x, y\\rangle$ into state $|x, y \\oplus f(x)\\rangle$ ($\\oplus$ is addition modulo 2), where $f(x) = 1$ if the bit string $x$ contains the given bit string as a continuous substring, and 0 if it does not.\n",
    " \n",
    "Leave the query register in the same state it started in.\n",
    "\n",
    "> For example, bit string `[false, true, true]` would be found in states $|0111\\rangle$ and $|0011\\rangle$, but not in state $|1001\\rangle$ or $|0101\\rangle$; bit string `[false]` would be found in any state other than $|1...1\\rangle$ (the string is allowed to occur in multiple places).\n",
    "\n",
    "> Hint: use the logic of task 1.2 as a building block for this task."
   ]
  },
  {
   "cell_type": "code",
   "execution_count": 4,
   "metadata": {},
   "outputs": [
    {
     "data": {
      "application/x-qsharp-data": "\"Success!\"",
      "text/plain": [
       "Success!"
      ]
     },
     "execution_count": 4,
     "metadata": {},
     "output_type": "execute_result"
    }
   ],
   "source": [
    "%kata T14_Test\n",
    "\n",
    "operation Task14 (queryRegister : Qubit[], target : Qubit, substring : Bool[]) : Unit is Adj {\n",
    "    // Note that your implementation has to be adjointable.\n",
    "    let substring_len = Length(substring);\n",
    "    let query_len = Length(queryRegister);\n",
    "    let check_len = query_len - substring_len + 1;\n",
    "    use q = Qubit[check_len];\n",
    "    within{\n",
    "        for i in 0..check_len-1 {\n",
    "            Task12 (queryRegister[i..i+substring_len-1], q[i], substring);\n",
    "            X(q[i]);\n",
    "        }\n",
    "    }\n",
    "    apply{\n",
    "        Controlled X (q, target);\n",
    "        X(target);\n",
    "    }\n",
    "}"
   ]
  },
  {
   "cell_type": "markdown",
   "metadata": {},
   "source": [
    "### Task 1.5. Majority function on 5 qubits\n",
    "**Inputs:**\n",
    "1. 5 qubits in an arbitrary state $|x\\rangle$ (input register)\n",
    "2. a qubit in an arbitrary state $|y\\rangle$ (output qubit)\n",
    "\n",
    "**Goal:** transform state $|x\\rangle|y\\rangle$ into state $|x\\rangle|y \\oplus MAJ(x)\\rangle$ ($\\oplus$ is addition modulo 2), where MAJ is majority function on 5-bit vectors, defined as follows: $MAJ(x) = 1$ if 3 or more bits of $x$ are 1, and 0 otherwise."
   ]
  },
  {
   "cell_type": "code",
   "execution_count": 5,
   "metadata": {},
   "outputs": [
    {
     "data": {
      "application/x-qsharp-data": "\"Success!\"",
      "text/plain": [
       "Success!"
      ]
     },
     "execution_count": 5,
     "metadata": {},
     "output_type": "execute_result"
    }
   ],
   "source": [
    "%kata T15_Test\n",
    "\n",
    "operation Task15 (queryRegister : Qubit[], target : Qubit) : Unit is Adj {\n",
    "    // Note that your implementation has to be adjointable.\n",
    "    // This is a poor solution :/\n",
    "    for i in 0..4{\n",
    "        for j in i+1..4{\n",
    "            for k in j+1..4{\n",
    "                Controlled X([queryRegister[i], queryRegister[j], queryRegister[k]], target);\n",
    "                for l in k+1..4{\n",
    "                    Controlled X([queryRegister[i], queryRegister[j], queryRegister[k], queryRegister[l]], target);\n",
    "                }                  \n",
    "            }\n",
    "        }     \n",
    "    }\n",
    "}       "
   ]
  },
  {
   "cell_type": "raw",
   "metadata": {},
   "source": [
    "Note: If there are three 1s, the Controlled X is applied only once; when there are four 1s, the Controlled X is applied thrice, twice for two 3s and once for a 4. It executes Controlled X 15 times when there are 5 1s. This is so inefficient. Why can't I break loop\n",
    "\n",
    "i 0 j 1 k 2\n",
    "i 0 j 1 k 2 l 3\n",
    "i 0 j 1 k 2 l 4\n",
    "i 0 j 1 k 3\n",
    "i 0 j 1 k 3 l 4\n",
    "i 0 j 1 k 4\n",
    "i 0 j 2 k 3\n",
    "i 0 j 2 k 3 l 4\n",
    "i 0 j 2 k 4\n",
    "i 0 j 3 k 4\n",
    "i 1 j 2 k 3\n",
    "i 1 j 2 k 3 l 4\n",
    "i 1 j 2 k 4\n",
    "i 1 j 3 k 4\n",
    "i 2 j 3 k 4"
   ]
  },
  {
   "cell_type": "markdown",
   "metadata": {},
   "source": [
    "## Part II. Oracle transformations and phase-flipping oracles"
   ]
  },
  {
   "cell_type": "markdown",
   "metadata": {},
   "source": [
    "### Task 2.1. Arbitrary bit pattern phase-flipping oracle\n",
    "**Inputs:**\n",
    "1. N qubits in an arbitrary state $|x\\rangle$ (input/query register)\n",
    "2. a bit pattern of length `N` represented as `Bool[]`\n",
    "\n",
    "**Goal:** Flip the phase of the register if it is in the state described by the given bit pattern (`false` and `true` values represent states $|0\\rangle$ and $|1\\rangle$, respectively). In this task you are not allowed to allocate extra qubits."
   ]
  },
  {
   "cell_type": "code",
   "execution_count": 6,
   "metadata": {},
   "outputs": [
    {
     "data": {
      "application/x-qsharp-data": "\"Success!\"",
      "text/plain": [
       "Success!"
      ]
     },
     "execution_count": 6,
     "metadata": {},
     "output_type": "execute_result"
    }
   ],
   "source": [
    "%kata T21_Test\n",
    "open Microsoft.Quantum.Arrays;\n",
    "\n",
    "operation Task21 (x : Qubit[], pattern : Bool[]) : Unit is Adj {\n",
    "    // Note that your implementation has to be adjointable.\n",
    "    // ...\n",
    "    if(Head(pattern)){\n",
    "        ControlledOnBitString(Rest(pattern), Z)(Rest(x), Head(x));\n",
    "    }\n",
    "    else{\n",
    "        X(Head(x));\n",
    "        ControlledOnBitString(Rest(pattern), Z)(Rest(x), Head(x));\n",
    "        X(Head(x));\n",
    "    }\n",
    "}"
   ]
  },
  {
   "cell_type": "markdown",
   "metadata": {},
   "source": [
    ">Tasks 2.2-2.4 require you to return an operation (oracle) constructed using another operation.\n",
    ">See the reference solution for task 1.4 from the GroversAlgorithm kata for an example of defining an oracle based on another oracle and returning that oracle as an operation.\n",
    "You will need to create a separate code cell to define the helper operation and use it in the cell with %kata magic.\n",
    "Note that the operation you return has to be adjointable."
   ]
  },
  {
   "cell_type": "markdown",
   "metadata": {},
   "source": [
    "### Task 2.2. Conversion between different phase-flipping oracles\n",
    "**Input:** A phase-flipping oracle of the form $|x\\rangle → (-1)^{f(x)} |x\\rangle$.  \n",
    "**Output:** A phase-flipping oracle of the form $|x\\rangle|b\\rangle → (-1)^{b · f(x)} |x\\rangle|b\\rangle$, where $b$ is a one-qubit register, and $·$ is dot product of scalar values (this oracle only flips the phase of the register $x$ if $b$ is in 1 state). The operation you return should take two parameters: an array of qubits $|x\\rangle$ and a single qubit $|b\\rangle$.\n",
    "\n",
    "> Hint: Note that the operation you're given (phaseOracle) has both adjoint and controlled variants."
   ]
  },
  {
   "cell_type": "code",
   "execution_count": 7,
   "metadata": {},
   "outputs": [
    {
     "data": {
      "application/x-qsharp-data": "[\"PhaseFlippingOracle\"]",
      "text/html": [
       "<ul><li>PhaseFlippingOracle</li></ul>"
      ],
      "text/plain": [
       "PhaseFlippingOracle"
      ]
     },
     "execution_count": 7,
     "metadata": {},
     "output_type": "execute_result"
    }
   ],
   "source": [
    "operation PhaseFlippingOracle (phaseOracle : (Qubit[] => Unit is Adj+Ctl), register : Qubit[], b : Qubit) : Unit is Adj {\n",
    "    Controlled phaseOracle([b], register);\n",
    "}"
   ]
  },
  {
   "cell_type": "code",
   "execution_count": 8,
   "metadata": {},
   "outputs": [
    {
     "data": {
      "application/x-qsharp-data": "\"Success!\"",
      "text/plain": [
       "Success!"
      ]
     },
     "execution_count": 8,
     "metadata": {},
     "output_type": "execute_result"
    }
   ],
   "source": [
    "%kata T22_Test\n",
    "\n",
    "function Task22 (phaseOracle : (Qubit[] => Unit is Adj+Ctl)) : ((Qubit[], Qubit) => Unit is Adj) {\n",
    "    // ...\n",
    "        \n",
    "    // Currently this function returns an existing oracle for the sake of being able to compile the code.\n",
    "    // You will need to return your own oracle instead of Task11.\n",
    "    return PhaseFlippingOracle(phaseOracle,_,_);\n",
    "}"
   ]
  },
  {
   "cell_type": "markdown",
   "metadata": {},
   "source": [
    "### Task 2.3. Conversion from phase-flipping oracle to marking oracle\n",
    "**Input:** A phase-flipping oracle of the form $|x\\rangle|b\\rangle → (-1)^{b · f(x)} |x\\rangle|b\\rangle$.  \n",
    "**Output:** A marking oracle of the form $|x\\rangle|b\\rangle → |x\\rangle|b \\oplus f(x)\\rangle$.\n",
    "\n",
    "The operation you return should take two parameters: an array of qubits $|x\\rangle$ and a single qubit $|b\\rangle$."
   ]
  },
  {
   "cell_type": "code",
   "execution_count": 9,
   "metadata": {},
   "outputs": [
    {
     "data": {
      "application/x-qsharp-data": "[\"PhaseToMarkingOracle\"]",
      "text/html": [
       "<ul><li>PhaseToMarkingOracle</li></ul>"
      ],
      "text/plain": [
       "PhaseToMarkingOracle"
      ]
     },
     "execution_count": 9,
     "metadata": {},
     "output_type": "execute_result"
    }
   ],
   "source": [
    "operation PhaseToMarkingOracle (phaseOracle : (Qubit[], Qubit) => Unit is Adj, register : Qubit[], b : Qubit) : Unit is Adj{\n",
    "    H(b);\n",
    "    phaseOracle(register, b);\n",
    "    H(b);\n",
    "}"
   ]
  },
  {
   "cell_type": "code",
   "execution_count": 10,
   "metadata": {},
   "outputs": [
    {
     "data": {
      "application/x-qsharp-data": "\"Success!\"",
      "text/plain": [
       "Success!"
      ]
     },
     "execution_count": 10,
     "metadata": {},
     "output_type": "execute_result"
    }
   ],
   "source": [
    "%kata T23_Test\n",
    "\n",
    "function Task23 (phaseOracle : ((Qubit[], Qubit) => Unit is Adj)) : ((Qubit[], Qubit) => Unit is Adj) {\n",
    "    // ...\n",
    "\n",
    "    // Currently this function returns an existing oracle for the sake of being able to compile the code.\n",
    "    // You will need to return your own oracle instead of Task11.\n",
    "    return PhaseToMarkingOracle(phaseOracle,_,_);\n",
    "}"
   ]
  },
  {
   "cell_type": "markdown",
   "metadata": {},
   "source": [
    "### Task 2.4. Oracle with one extra state marked/unmarked\n",
    "**Inputs:**\n",
    "1. a marking oracle of the form $|x\\rangle|b\\rangle → |x\\rangle|b \\oplus f(x)\\rangle$ ($x$ is an N-bit input)\n",
    "2. a bit pattern of length N represented as `Bool[]` (`false` and `true` values represent states $|0\\rangle$ and $|1$, respectively). \n",
    "\n",
    "**Output:** A marking oracle of the same form, which works as follows:\n",
    "- for all $x \\neq pattern$, $|x\\rangle|b\\rangle → |x\\rangle|b \\oplus f(x)\\rangle$\n",
    "- for $x = pattern$, $|x\\rangle|b\\rangle → |x\\rangle|b \\oplus f(x) \\oplus 1\\rangle$  \n",
    "\n",
    "(i.e., if the input oracle marked the pattern as the solution, the output oracle will not mark it, and vice versa)"
   ]
  },
  {
   "cell_type": "code",
   "execution_count": 11,
   "metadata": {},
   "outputs": [
    {
     "data": {
      "application/x-qsharp-data": "[\"MarkingStateOracle\"]",
      "text/html": [
       "<ul><li>MarkingStateOracle</li></ul>"
      ],
      "text/plain": [
       "MarkingStateOracle"
      ]
     },
     "execution_count": 11,
     "metadata": {},
     "output_type": "execute_result"
    }
   ],
   "source": [
    "operation MarkingStateOracle (markingOracle : (Qubit[], Qubit) => Unit is Adj, pattern : Bool[], register : Qubit[], b : Qubit) : Unit is Adj {\n",
    "    markingOracle(register, b);\n",
    "    (ControlledOnBitString(pattern, X))(register, b);\n",
    "}"
   ]
  },
  {
   "cell_type": "code",
   "execution_count": 12,
   "metadata": {},
   "outputs": [
    {
     "data": {
      "application/x-qsharp-data": "\"Success!\"",
      "text/plain": [
       "Success!"
      ]
     },
     "execution_count": 12,
     "metadata": {},
     "output_type": "execute_result"
    }
   ],
   "source": [
    "%kata T24_Test\n",
    "\n",
    "function Task24 (markingOracle : ((Qubit[], Qubit) => Unit is Adj), pattern : Bool[]) : ((Qubit[], Qubit) => Unit is Adj) {\n",
    "    // ...\n",
    "        \n",
    "    // Currently this function returns an existing oracle for the sake of being able to compile the code.\n",
    "    // You will need to return your own oracle instead of Task11.\n",
    "    return MarkingStateOracle(markingOracle,pattern,_,_);\n",
    "}"
   ]
  }
 ],
 "metadata": {
  "kernelspec": {
   "display_name": "Q#",
   "language": "qsharp",
   "name": "iqsharp"
  },
  "language_info": {
   "file_extension": ".qs",
   "mimetype": "text/x-qsharp",
   "name": "qsharp",
   "version": "0.14"
  }
 },
 "nbformat": 4,
 "nbformat_minor": 4
}
