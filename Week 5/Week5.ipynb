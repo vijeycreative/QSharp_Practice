{
 "cells": [
  {
   "cell_type": "markdown",
   "metadata": {},
   "source": [
    "# Week 5: Debugging Q# Code\n",
    "\n",
    "The Q# code in this task implements Grover's search algorithm for one example function. It contains exactly **10 bugs**, ranging from issues that will manifest as compilation errors to problems that will require running the fixed algorithm and analyzing its output.\n",
    "\n",
    "> You can find the corresponding learning exercises are in the following katas/tutorials:\n",
    ">\n",
    "> * [GroversAlgorithm](https://github.com/Microsoft/QuantumKatas/blob/main/GroversAlgorithm/)\n",
    "> * [ExploringGroversAlgorithm](https://github.com/microsoft/QuantumKatas/tree/main/tutorials/ExploringGroversAlgorithm)"
   ]
  },
  {
   "cell_type": "markdown",
   "metadata": {},
   "source": [
    "* Run the next cell using `Ctrl+Enter` (`⌘+Enter` on macOS) to compile the code. \n",
    "* Once the code compiles successfully, run the cell after it to see the runtime errors and the code output."
   ]
  },
  {
   "cell_type": "code",
   "execution_count": null,
   "metadata": {},
   "outputs": [],
   "source": [
    "// Note that Q# code in the notebook shouldn't be defined inside a namespace.\n",
    "open Microsoft.Quantum.Arrays;  \n",
    "open Microsoft.Quantum.Convert;\n",
    "open Microsoft.Quantum.Measurement;\n",
    "open Microsoft.Quantum.Intrinsic;\n",
    "open Microsoft.Quantum.Canon;\n",
    "\n",
    "// This marking oracle implements the following classical function:\n",
    "// f(x) = 1 if the second half of the bits of x are 0s, and 0 otherwise.\n",
    "// You are guaranteed that the number of bits in the input is even.\n",
    "// The bits are numbered in the same order as the qubits in the  register array\n",
    "// (bit x₀ corresponds to the first element of the array).\n",
    "operation Oracle_MarkedBitIsTrue (register: Qubit[], target: Qubit) : Unit {\n",
    "    let N = Length(register);\n",
    "    let selectBits = register[N/2 .. N];\n",
    "    within {\n",
    "        ApplyToEach(X, selectBits);\n",
    "    } apply {\n",
    "        Controlled Z(selectBits, target);\n",
    "    }\n",
    "}\n",
    "\n",
    "operation OracleConverterImpl (markingOracle : ((Qubit[], Qubit) => Unit), register : Qubit[]) : Unit {\n",
    "    use target = Qubit();\n",
    "    // Put the target into the |-⟩ state\n",
    "    X(target);\n",
    "    H(target);\n",
    "    // Apply the marking oracle; since the target is in the |-⟩ state,\n",
    "    // flipping the target if the register satisfies the oracle condition will apply a -1 factor to the state\n",
    "    markingOracle(register, target);\n",
    "}\n",
    "\n",
    "operation GroversSearch_Loop (register : Qubit[], oracle : ((Qubit[], Qubit) => Unit), iterations : Int) : Unit {\n",
    "    let phaseOracle = OracleConverterImpl(oracle, _);\n",
    "    ApplyToEach(H, register);\n",
    "\n",
    "    for i in 1 .. iters {\n",
    "        // Apply the phase oracle\n",
    "        phaseOracle(register);\n",
    "        // Perform reflection about the mean\n",
    "        within {\n",
    "            ApplyToEachA(H, register);\n",
    "            ApplyToEachA(X, register);\n",
    "        } apply {\n",
    "            Controlled Z(Most(register), Tail(register));\n",
    "        }\n",
    "    }\n",
    "}\n",
    "\n",
    "operation GroversSearch_Main () : Unit {\n",
    "    let nQubits = 8;\n",
    "    let searchSpaceSize = 2 ^ nQubits;\n",
    "    let solutionsNumber = 2 ^ (nQubits/2);\n",
    "    let iter = Round(PI() / 4.0 * Sqrt(searchSpaceSize * 1.0 / solutionsNumber));\n",
    "\n",
    "    mutable answer = new Bool[nQubits];\n",
    "    use (register, output) = (Qubit[nQubits], Qubit(1));\n",
    "    mutable correct = false;\n",
    "    repeat {\n",
    "        GroversSearch_Loop(register, Oracle_MarkedBitIsTrue, iter);\n",
    "        let res = MultiM(register);\n",
    "        // Check whether the result is correct\n",
    "        Oracle_MarkedBitIsTrue(register, output);\n",
    "        if (MResetX(output) == One) {\n",
    "            set correct = true;\n",
    "            set answer = ResultArrayAsBoolArray(res);\n",
    "        }\n",
    "        ResetAll(register);\n",
    "    } until (correct);\n",
    "    Message(\"{answer}\");\n",
    "}"
   ]
  },
  {
   "cell_type": "code",
   "execution_count": null,
   "metadata": {},
   "outputs": [],
   "source": [
    "%simulate GroversSearch_Main"
   ]
  }
 ],
 "metadata": {
  "kernelspec": {
   "display_name": "Q#",
   "language": "qsharp",
   "name": "iqsharp"
  },
  "language_info": {
   "file_extension": ".qs",
   "mimetype": "text/x-qsharp",
   "name": "qsharp",
   "version": "0.14"
  }
 },
 "nbformat": 4,
 "nbformat_minor": 2
}
