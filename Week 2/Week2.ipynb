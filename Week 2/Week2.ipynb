{
 "cells": [
  {
   "cell_type": "markdown",
   "metadata": {},
   "source": [
    "# Week 2 \n",
    "This is the set of programming assignments for week 2.\n",
    "\n",
    "The tasks cover the following topics:\n",
    "- implementing unitary transformations\n",
    "- measurements\n",
    "\n",
    "We recommend to solve the following katas before doing these assignments:\n",
    "- Measurements \n",
    "\n",
    "from https://github.com/Microsoft/QuantumKatas."
   ]
  },
  {
   "cell_type": "markdown",
   "metadata": {},
   "source": [
    "## Part I. Implementing unitary transformations"
   ]
  },
  {
   "cell_type": "markdown",
   "metadata": {},
   "source": [
    "### Task 1.1.\n",
    "**Goal:** Implement a two-qubit gate defined by its effect on the basis states (the qubits are given in order $|qs[0], qs[1]\\rangle)$:\n",
    "- $|0 0\\rangle →   |0 0\\rangle$\n",
    "- $|0 1\\rangle → - |0 1\\rangle$\n",
    "- $|1 0\\rangle →   |1 0\\rangle$\n",
    "- $|1 1\\rangle →   |1 1\\rangle$"
   ]
  },
  {
   "cell_type": "code",
   "execution_count": 1,
   "metadata": {},
   "outputs": [
    {
     "name": "stderr",
     "output_type": "stream",
     "text": [
      "Qubit in invalid state. Expecting: Zero\n",
      "\tExpected:\t0\n",
      "\tActual:\t0.5000000000000002\n",
      "Try again!\n"
     ]
    }
   ],
   "source": [
    "%kata T11_Test\n",
    "\n",
    "open Microsoft.Quantum.Diagnostics;\n",
    "\n",
    "operation Task11 (qs : Qubit[]) : Unit {\n",
    "    // ...\n",
    "    //DumpMachine();\n",
    "    X(qs[0]);\n",
    "    use checkQubit = Qubit();\n",
    "    Controlled X([qs[0],qs[1]], checkQubit);\n",
    "    X(qs[0]);\n",
    "    Controlled Z([checkQubit], qs[1]);\n",
    "    Reset(checkQubit);\n",
    "}"
   ]
  },
  {
   "cell_type": "markdown",
   "metadata": {},
   "source": [
    "### Task 1.2.\n",
    "**Goal:** Implement a three-qubit gate defined by its effect on the basis states (the qubits are given in order $|qs[0], qs[1], qs[2]\\rangle$):\n",
    "- $|0 0 0\\rangle → |0 0 0\\rangle$\n",
    "- $|0 0 1\\rangle → |0 0 1\\rangle$\n",
    "- $|0 1 0\\rangle → |0 1 0\\rangle$\n",
    "- $|0 1 1\\rangle → |0 1 1\\rangle$\n",
    "- $|1 0 0\\rangle → |1 1 0\\rangle$\n",
    "- $|1 0 1\\rangle → |1 1 1\\rangle$\n",
    "- $|1 1 0\\rangle → |1 0 1\\rangle$\n",
    "- $|1 1 1\\rangle → |1 0 0\\rangle$"
   ]
  },
  {
   "cell_type": "code",
   "execution_count": 2,
   "metadata": {},
   "outputs": [
    {
     "data": {
      "application/x-qsharp-data": "\"Success!\"",
      "text/plain": [
       "Success!"
      ]
     },
     "execution_count": 2,
     "metadata": {},
     "output_type": "execute_result"
    }
   ],
   "source": [
    "%kata T12_Test\n",
    "\n",
    "open Microsoft.Quantum.Diagnostics;\n",
    "\n",
    "operation Task12 (qs : Qubit[]) : Unit {\n",
    "    CCNOT(qs[0], qs[1], qs[2]);\n",
    "    CNOT(qs[0], qs[1]);\n",
    "    \n",
    "}"
   ]
  },
  {
   "cell_type": "markdown",
   "metadata": {},
   "source": [
    "### Task 1.3.\n",
    "**Goal:** Implement a three-qubit Deutsch gate.\n",
    ">The description of the gate can be found at https://aka.ms/deutschgate."
   ]
  },
  {
   "cell_type": "code",
   "execution_count": 3,
   "metadata": {},
   "outputs": [
    {
     "data": {
      "application/x-qsharp-data": "\"Success!\"",
      "text/plain": [
       "Success!"
      ]
     },
     "execution_count": 3,
     "metadata": {},
     "output_type": "execute_result"
    }
   ],
   "source": [
    "%kata T13_Test\n",
    "\n",
    "open Microsoft.Quantum.Diagnostics;\n",
    "\n",
    "operation Task13 (qs : Qubit[], theta : Double) : Unit {\n",
    "\n",
    "    Controlled S([qs[0]], qs[1]);\n",
    "    Controlled Rx([qs[0], qs[1]], (2.0*theta, qs[2]));\n",
    "}"
   ]
  },
  {
   "cell_type": "markdown",
   "metadata": {},
   "source": [
    "### Task 1.4. Clone $|+\\rangle$ and $|-\\rangle$ states.\n",
    "**Inputs:**\n",
    "1. a data qubit that is guaranteed to be in $|+\\rangle$ or $|-\\rangle$ state,\n",
    "2. a scratch qubit that is guaranteed to be in the $|0\\rangle$ state.  \n",
    "\n",
    "**Goal:** Implement a unitary transformation that will clone the data qubit state onto the scratch qubit, i.e., will transform $|+, 0\\rangle → |+, +\\rangle$ and $|-, 0\\rangle → |-, -\\rangle$.  \n",
    "\n",
    ">Do not use measurements."
   ]
  },
  {
   "cell_type": "code",
   "execution_count": 4,
   "metadata": {},
   "outputs": [
    {
     "name": "stdout",
     "output_type": "stream",
     "text": [
      "Testing state |+⟩...\n",
      "Testing state |-⟩...\n"
     ]
    },
    {
     "data": {
      "application/x-qsharp-data": "\"Success!\"",
      "text/plain": [
       "Success!"
      ]
     },
     "execution_count": 4,
     "metadata": {},
     "output_type": "execute_result"
    }
   ],
   "source": [
    "%kata T14_Test\n",
    "open Microsoft.Quantum.Diagnostics;\n",
    "operation Task14 (data : Qubit, scratch : Qubit) : Unit {\n",
    "    // ...\n",
    "    H(data);\n",
    "    CNOT(data,scratch);\n",
    "    H(data);\n",
    "    H(scratch);\n",
    "}"
   ]
  },
  {
   "cell_type": "markdown",
   "metadata": {},
   "source": [
    "## Part II. Measurements"
   ]
  },
  {
   "cell_type": "markdown",
   "metadata": {},
   "source": [
    "### Task 2.1.\n",
    "**Input:** a qubit which is guaranteed to be in $|0\\rangle$ or $|1\\rangle$ state.  \n",
    "**Output:** `true` if the qubit was in $|0\\rangle$ state, or `false` if it was in $|1\\rangle$ state. \n",
    "\n",
    "The state of the qubit at the end of the operation does not matter."
   ]
  },
  {
   "cell_type": "code",
   "execution_count": 5,
   "metadata": {},
   "outputs": [
    {
     "data": {
      "application/x-qsharp-data": "\"Success!\"",
      "text/plain": [
       "Success!"
      ]
     },
     "execution_count": 5,
     "metadata": {},
     "output_type": "execute_result"
    }
   ],
   "source": [
    "%kata T21_Test\n",
    "\n",
    "operation Task21 (q : Qubit) : Bool {\n",
    "    // ...\n",
    "    return M(q) == Zero;\n",
    "}"
   ]
  },
  {
   "cell_type": "markdown",
   "metadata": {},
   "source": [
    "### Task 2.2.\n",
    "**Input:** three qubits which are guaranteed to be in one of the two superposition states:\n",
    "- $\\frac12\\big(|000\\rangle + |001\\rangle + |010\\rangle + |100\\rangle\\big)$ or \n",
    "- $\\frac12\\big(|111\\rangle + |110\\rangle + |101\\rangle + |011\\rangle\\big)$.\n",
    "\n",
    "**Output:** \n",
    "- 0 if the qubits were in the first state,\n",
    "- 1 if they were in the second state.  \n",
    "\n",
    "In this task and the subsequent ones the order of qubit states in task description matches the order of qubits in the array (i.e., $|10\\rangle$ state corresponds to qs[0] in state $|1\\rangle$ and qs[1] in state $|0\\rangle$).  \n",
    "The state of the qubits at the end of the operation does not matter."
   ]
  },
  {
   "cell_type": "code",
   "execution_count": 6,
   "metadata": {},
   "outputs": [
    {
     "data": {
      "application/x-qsharp-data": "\"Success!\"",
      "text/plain": [
       "Success!"
      ]
     },
     "execution_count": 6,
     "metadata": {},
     "output_type": "execute_result"
    }
   ],
   "source": [
    "%kata T22_Test\n",
    "\n",
    "\n",
    "operation Task22 (qs : Qubit[]) : Int {\n",
    "    \n",
    "    CNOT(qs[2], qs[0]);\n",
    "    CNOT(qs[2], qs[1]);\n",
    "    CCNOT(qs[0], qs[1], qs[2]);\n",
    "    H(qs[1]);\n",
    "    H(qs[0]);\n",
    "    \n",
    "    \n",
    "    mutable countOnes = 0;\n",
    "    \n",
    "    for q in qs {\n",
    "        if (M(q) == One) {\n",
    "            set countOnes += 1;\n",
    "        }\n",
    "    }\n",
    "    \n",
    "    return countOnes == 1 ? 1 | 0;\n",
    "}"
   ]
  },
  {
   "cell_type": "markdown",
   "metadata": {},
   "source": [
    "### Task 2.3.\n",
    "**Input:** three qubits which are guaranteed to be in one of the four superposition states:\n",
    "- $|S0\\rangle = \\frac1{\\sqrt2}\\big(|000\\rangle + |111\\rangle\\big)$\n",
    "- $|S1\\rangle = \\frac1{\\sqrt2}\\big(|001\\rangle + |110\\rangle\\big)$\n",
    "- $|S2\\rangle = \\frac1{\\sqrt2}\\big(|010\\rangle + |101\\rangle\\big)$\n",
    "- $|S3\\rangle = \\frac1{\\sqrt2}\\big(|100\\rangle + |011\\rangle\\big)$  \n",
    "\n",
    "**Output:**   \n",
    "- 0 if the qubits were in $|S0\\rangle$ state,  \n",
    "- 1 if they were in $|S1\\rangle$ state,  \n",
    "- 2 if they were in $|S2\\rangle$ state,  \n",
    "- 3 if they were in $|S3\\rangle$ state.  \n",
    "\n",
    "The state of the qubits at the end of the operation does not matter."
   ]
  },
  {
   "cell_type": "code",
   "execution_count": 7,
   "metadata": {},
   "outputs": [
    {
     "data": {
      "application/x-qsharp-data": "\"Success!\"",
      "text/plain": [
       "Success!"
      ]
     },
     "execution_count": 7,
     "metadata": {},
     "output_type": "execute_result"
    }
   ],
   "source": [
    "%kata T23_Test\n",
    "\n",
    "operation Task23 (qs : Qubit[]) : Int {\n",
    "\n",
    "    CNOT(qs[1], qs[2]);\n",
    "    CNOT(qs[0], qs[1]);\n",
    "    H(qs[0]);\n",
    "    \n",
    "    mutable countOnes = 0;\n",
    "    \n",
    "    for q in qs {\n",
    "        if (M(q) == One) {\n",
    "            set countOnes += 1;\n",
    "        }\n",
    "    }\n",
    "    \n",
    "    if (countOnes == 1) {\n",
    "        return M(qs[1]) == One ? 3 | 1;\n",
    "    }\n",
    "    else {\n",
    "        return countOnes;\n",
    "    }\n",
    "    \n",
    "}"
   ]
  },
  {
   "cell_type": "markdown",
   "metadata": {},
   "source": [
    "### Task 2.4.\n",
    "**Input:** two qubits (stored in an array) which are guaranteed to be in one of the four orthogonal states:\n",
    "- $|S0\\rangle = \\frac12\\big(|00\\rangle + i|01\\rangle + i|10\\rangle - |11\\rangle\\big)$\n",
    "- $|S1\\rangle = \\frac12\\big(|00\\rangle - i|01\\rangle + i|10\\rangle + |11\\rangle\\big)$\n",
    "- $|S2\\rangle = \\frac12\\big(|00\\rangle + i|01\\rangle - i|10\\rangle + |11\\rangle\\big)$\n",
    "- $|S3\\rangle = \\frac12\\big(|00\\rangle - i|01\\rangle - i|10\\rangle - |11\\rangle\\big)$\n",
    "\n",
    "\n",
    "**Output:**  \n",
    "- 0 if the qubits were in $|S0\\rangle$ state,  \n",
    "- 1 if they were in $|S1\\rangle$ state,  \n",
    "- 2 if they were in $|S2\\rangle$ state,  \n",
    "- 3 if they were in $|S3\\rangle$ state.  \n",
    "\n",
    "The state of the qubits at the end of the operation does not matter. "
   ]
  },
  {
   "cell_type": "code",
   "execution_count": 8,
   "metadata": {},
   "outputs": [
    {
     "data": {
      "application/x-qsharp-data": "\"Success!\"",
      "text/plain": [
       "Success!"
      ]
     },
     "execution_count": 8,
     "metadata": {},
     "output_type": "execute_result"
    }
   ],
   "source": [
    "%kata T24_Test\n",
    "\n",
    "operation Task24 (qs : Qubit[]) : Int {\n",
    "\n",
    "    S(qs[1]);\n",
    "    H(qs[1]);\n",
    "    S(qs[0]);\n",
    "    H(qs[0]);\n",
    "    X(qs[0]);\n",
    "    \n",
    "    mutable countOnes = 0;\n",
    "    \n",
    "    for q in qs {\n",
    "        if (M(q) == One) {\n",
    "            set countOnes += 1;\n",
    "        }\n",
    "    }\n",
    "    \n",
    "    if (countOnes == 1) {\n",
    "        return M(qs[0]) == One ? 3 | 0;\n",
    "    }\n",
    "    else {\n",
    "        return countOnes == 2 ? 2 | 1;\n",
    "    }\n",
    "    \n",
    "}"
   ]
  },
  {
   "cell_type": "markdown",
   "metadata": {},
   "source": [
    "### Task 2.5.\n",
    "**Input:** 21 copies of an unknown qubit state $|\\psi⟩ = \\alpha |0\\rangle + \\beta |1\\rangle$ (amplitudes $\\alpha$ and $\\beta$ are non-negative real numbers).  \n",
    "**Output:** a tuple of two numbers $(\\alpha', \\beta')$ - your estimates of the amplitudes $\\alpha$ and $\\beta$. The absolute errors $|\\alpha - \\alpha'|$ and $|\\beta - \\beta'|$ should be less than or equal to $0.1$.  \n",
    "\n",
    "This task will be tested on several different states $|\\psi\\rangle$; since the task is dependent on measurement results and can be not deterministic, you will be given 10 attempts for each state $|\\psi\\rangle$; you need to pass at least one attempt. "
   ]
  },
  {
   "cell_type": "code",
   "execution_count": 9,
   "metadata": {},
   "outputs": [
    {
     "name": "stdout",
     "output_type": "stream",
     "text": [
      "Testing angle 0 (expected return: (1, 0))...\n",
      "   attempt 1 passed! returned (1, 0)\n",
      "Testing angle 0.25132741228718347 (expected return: (0.9685831611286311, 0.2486898871648548))...\n",
      "   attempt 1 failed: returned (1, 0)\n",
      "   attempt 2 passed! returned (0.9511897312113419, 0.3086066999241838)\n",
      "Testing angle 0.37699111843077515 (expected return: (0.9297764858882515, 0.3681245526846779))...\n",
      "   attempt 1 failed: returned (0.9759000729485332, 0.21821789023599236)\n",
      "   attempt 2 passed! returned (0.9511897312113419, 0.3086066999241838)\n",
      "Testing angle 0.5026548245743669 (expected return: (0.8763066800438636, 0.4817536741017153))...\n",
      "   attempt 1 passed! returned (0.8728715609439694, 0.4879500364742666)\n",
      "Testing angle 0.6283185307179586 (expected return: (0.8090169943749475, 0.5877852522924731))...\n",
      "   attempt 1 failed: returned (0.7237468644557459, 0.6900655593423543)\n",
      "   attempt 2 failed: returned (0.6546536707079771, 0.7559289460184544)\n",
      "   attempt 3 failed: returned (0.7237468644557459, 0.6900655593423543)\n",
      "   attempt 4 passed! returned (0.7867957924694432, 0.6172133998483676)\n",
      "Testing angle 0.7539822368615503 (expected return: (0.7289686274214116, 0.6845471059286886))...\n",
      "   attempt 1 passed! returned (0.7237468644557459, 0.6900655593423543)\n",
      "Testing angle 0.8796459430051421 (expected return: (0.6374239897486897, 0.7705132427757893))...\n",
      "   attempt 1 failed: returned (0.7867957924694432, 0.6172133998483676)\n",
      "   attempt 2 failed: returned (0.5345224838248488, 0.8451542547285166)\n",
      "   attempt 3 passed! returned (0.6900655593423543, 0.7237468644557459)\n",
      "Testing angle 1.0053096491487339 (expected return: (0.5358267949789965, 0.8443279255020151))...\n",
      "   attempt 1 passed! returned (0.6172133998483676, 0.7867957924694432)\n",
      "Testing angle 1.1309733552923256 (expected return: (0.42577929156507266, 0.9048270524660196))...\n",
      "   attempt 1 passed! returned (0.3779644730092272, 0.9258200997725514)\n",
      "Testing angle 1.2566370614359172 (expected return: (0.30901699437494745, 0.9510565162951535))...\n",
      "   attempt 1 passed! returned (0.21821789023599236, 0.9759000729485332)\n"
     ]
    },
    {
     "data": {
      "application/x-qsharp-data": "\"Success!\"",
      "text/plain": [
       "Success!"
      ]
     },
     "execution_count": 9,
     "metadata": {},
     "output_type": "execute_result"
    }
   ],
   "source": [
    "%kata T25_Test\n",
    "\n",
    "open Microsoft.Quantum.Math;\n",
    "\n",
    "operation Task25 (qs : Qubit[]) : (Double, Double) {\n",
    "    // ...\n",
    "    mutable countZero = 0.0;\n",
    "    let numRuns = 21.0;\n",
    "    for q in qs {\n",
    "        if (M(q) == Zero) {\n",
    "            set countZero += 1.0;\n",
    "        }    \n",
    "    }\n",
    "    let countOne = numRuns - countZero;\n",
    "    let alpha = Sqrt(countZero / numRuns);\n",
    "    let beta = Sqrt(countOne  / numRuns);\n",
    "    \n",
    "    return (alpha, beta);\n",
    "}"
   ]
  }
 ],
 "metadata": {
  "kernelspec": {
   "display_name": "Q#",
   "language": "qsharp",
   "name": "iqsharp"
  },
  "language_info": {
   "file_extension": ".qs",
   "mimetype": "text/x-qsharp",
   "name": "qsharp",
   "version": "0.14"
  }
 },
 "nbformat": 4,
 "nbformat_minor": 4
}
