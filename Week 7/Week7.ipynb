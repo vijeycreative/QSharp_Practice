{
 "cells": [
  {
   "cell_type": "markdown",
   "metadata": {},
   "source": [
    "# Week 7\n",
    "\n",
    "This is the set of programming assignments for week 7.\n",
    "    \n",
    "The tasks cover the following topics:\n",
    "- quantum phase estimation\n",
    "\n",
    "We recommend to solve the PhaseEstimation kata from https://github.com/Microsoft/QuantumKatas before doing these assignments."
   ]
  },
  {
   "cell_type": "markdown",
   "metadata": {},
   "source": [
    "## Part I. Quantum phase estimation (QPE)"
   ]
  },
  {
   "cell_type": "markdown",
   "metadata": {},
   "source": [
    "### Task 1.1. Eigenstates of the Hadamard gate.\n",
    "**Inputs:**\n",
    "1. a qubit in $|0\\rangle$ state.\n",
    "2. an integer `state` indicating which eigenstate to prepare (0 or 1).\n",
    "\n",
    "**Goal:** prepare one of the eigenstates of the Hadamard gate ($|\\psi_0\\rangle$ or $|\\psi_1\\rangle$). The eigenstate $|\\psi_0\\rangle$ (prepared for `state = 0`) should be the one with eigenvalue -1, $|\\psi_1\\rangle$ (prepared for `state = 1`) - the one with eigenvalue 1."
   ]
  },
  {
   "cell_type": "code",
   "execution_count": 16,
   "metadata": {},
   "outputs": [
    {
     "data": {
      "application/x-qsharp-data": "\"Success!\"",
      "text/plain": [
       "Success!"
      ]
     },
     "execution_count": 16,
     "metadata": {},
     "output_type": "execute_result"
    }
   ],
   "source": [
    "%kata T11_Test\n",
    "\n",
    "open Microsoft.Quantum.Math;\n",
    "\n",
    "operation Task11 (q : Qubit, state : Int) : Unit is Adj {\n",
    "    // Note that your implementation has to be adjointable.\n",
    "    // ...\n",
    "    let num = (state == 0) ? (ArcTan(1.0/(1.0 + Sqrt(2.0)*-1.0))) | (ArcTan(1.0/(1.0 + Sqrt(2.0)*1.0)));\n",
    "    Ry(2.0 * num, q);\n",
    "}"
   ]
  },
  {
   "cell_type": "markdown",
   "metadata": {},
   "source": [
    "### Task 1.2. Speed up phase estimation oracle for T gates\n",
    "**Input:**  A positive integer $P$.\n",
    "\n",
    "**Output:** A single-qubit unitary equal to $T$ gate raised to the power of $P$.\n",
    "\n",
    "You can use at most one $T$ gate for any value of $P$.\n",
    "You can not use arbitrary rotation gates or allocate extra qubits."
   ]
  },
  {
   "cell_type": "code",
   "execution_count": 20,
   "metadata": {},
   "outputs": [
    {
     "data": {
      "application/x-qsharp-data": "[\"PowerUnitary\"]",
      "text/html": [
       "<ul><li>PowerUnitary</li></ul>"
      ],
      "text/plain": [
       "PowerUnitary"
      ]
     },
     "execution_count": 20,
     "metadata": {},
     "output_type": "execute_result"
    }
   ],
   "source": [
    "operation PowerUnitary (P : Int, q: Qubit) : Unit is Adj+Ctl {\n",
    "    \n",
    "    if (P % 2  == 1) {\n",
    "        T(q);\n",
    "    }\n",
    "    if ((P >>> 1) % 2 == 1){ // a >>> b is equivalent to RightShiftedI(a, b);\n",
    "        S(q);\n",
    "    }\n",
    "    if ((P >>> 2) % 2 == 1){\n",
    "        Z(q);\n",
    "    }\n",
    "}"
   ]
  },
  {
   "cell_type": "code",
   "execution_count": 21,
   "metadata": {},
   "outputs": [
    {
     "name": "stdout",
     "output_type": "stream",
     "text": [
      "Testing power 0...\n",
      "Testing power 1...\n",
      "Testing power 2...\n",
      "Testing power 3...\n",
      "Testing power 4...\n",
      "Testing power 5...\n",
      "Testing power 6...\n",
      "Testing power 7...\n",
      "Testing power 8...\n",
      "Testing power 9...\n",
      "Testing power 10...\n",
      "Testing power 11...\n",
      "Testing power 12...\n",
      "Testing power 13...\n",
      "Testing power 14...\n",
      "Testing power 15...\n",
      "Testing power 16...\n",
      "Testing power 17...\n",
      "Testing power 18...\n",
      "Testing power 19...\n",
      "Testing power 20...\n",
      "Testing power 21...\n",
      "Testing power 22...\n",
      "Testing power 23...\n",
      "Testing power 24...\n",
      "Testing power 25...\n",
      "Testing power 26...\n",
      "Testing power 27...\n",
      "Testing power 28...\n",
      "Testing power 29...\n",
      "Testing power 30...\n",
      "Testing power 31...\n",
      "Testing power 32...\n"
     ]
    },
    {
     "data": {
      "application/x-qsharp-data": "\"Success!\"",
      "text/plain": [
       "Success!"
      ]
     },
     "execution_count": 21,
     "metadata": {},
     "output_type": "execute_result"
    }
   ],
   "source": [
    "%kata T12_Test\n",
    "\n",
    "function Task12 (P : Int) : (Qubit => Unit is Adj+Ctl) {\n",
    "    // Currently this function returns the identity gate for the sake of being able to compile the code.\n",
    "    // You will need to return your own unitary instead of I.\n",
    "    \n",
    "    return PowerUnitary(P, _);\n",
    "}"
   ]
  },
  {
   "cell_type": "markdown",
   "metadata": {},
   "source": [
    "### Task 1.3. Quantum version of unitary power\n",
    "**Inputs:**\n",
    "1. a single-qubit unitary $U$.\n",
    "2. N qubits in an arbitrary state $|k\\rangle$.\n",
    "3. a qubit in an arbitrary state $|\\psi\\rangle$ (not necessarily an eigenstate of $U$).\n",
    "\n",
    "**Goal:** apply the k-th power of unitary $U$ to the target qubit, i.e., transform the state $|k\\rangle|\\psi\\rangle$ into the state $|k\\rangle U^k |\\psi\\rangle$.  \n",
    "Here the integer k is stored in little endian format (least significant bit first).\n",
    "\n",
    "Note that this task is similar to the oracle tasks:\n",
    "`powerRegister` can be in superposition, so you should not measure it to obtain the value of $k$.\n",
    "\n",
    "> For example, for $U = S$ the state $(|00\\rangle + |01\\rangle + |10\\rangle + |11\\rangle) \\otimes |1\\rangle$ should be transformed into $|00\\rangle \\otimes |1\\rangle + |10\\rangle \\otimes S|1\\rangle + |01\\rangle \\otimes S^2 |1\\rangle + |11\\rangle \\otimes S^3 |1\\rangle = (|00\\rangle + i |10\\rangle - |01\\rangle - i|11\\rangle) \\otimes |1\\rangle$."
   ]
  },
  {
   "cell_type": "code",
   "execution_count": 25,
   "metadata": {},
   "outputs": [
    {
     "data": {
      "application/x-qsharp-data": "\"Success!\"",
      "text/plain": [
       "Success!"
      ]
     },
     "execution_count": 25,
     "metadata": {},
     "output_type": "execute_result"
    }
   ],
   "source": [
    "%kata T13_Test\n",
    "\n",
    "open Microsoft.Quantum.Canon;\n",
    "\n",
    "operation Task13 (U : (Qubit => Unit is Adj+Ctl), \n",
    "                  powerRegister : Qubit[], \n",
    "                  target : Qubit) : Unit is Adj {\n",
    "    // Note that your implementation has to be adjointable.\n",
    "    // Hint: this circuit is part of the quantum phase estimation circuit presented in the lecture\n",
    "    \n",
    "    for i in 0 .. Length(powerRegister) - 1 {\n",
    "        Controlled (OperationPowCA(U, 1 <<< i))([powerRegister[i]], target);\n",
    "    } \n",
    "}"
   ]
  },
  {
   "cell_type": "markdown",
   "metadata": {},
   "source": [
    "### Task 1.4. Reverse-engineer QPE\n",
    "**Input:**  A floating-point number $\\phi$ in `[0, 1)` interval.\n",
    "\n",
    "**Output:** A tuple of two single-qubit unitaries `(U, P)` which, when passed to the QPE implementation from task 1.4 in PhaseEstimation kata, produce $\\phi$.  \n",
    "In other words, find a unitary and its eigenstate which has the eigenvalue $exp(2i\\pi \\phi)$.\n",
    "\n",
    "> For example, \n",
    "* if `phase = 0.0`, you can return `(Z, I)` to represent eigenstate $|0\\rangle$ with eigenvalue $1 = exp(2πi · 0.0)$; \n",
    "* if `phase = 0.5`, you can return `(Z, X)` to represent eigenstate $|1\\rangle$ with eigenvalue $-1 = exp(2\\pi i · 0.5)$.\n",
    "\n",
    "QPE will be invoked with $n = 8$ bits of precision. The returned value has to be accurate within the absolute error of $0.01$.\n",
    "\n",
    "The test will be executed once for each value of $\\phi$."
   ]
  },
  {
   "cell_type": "code",
   "execution_count": 50,
   "metadata": {},
   "outputs": [
    {
     "data": {
      "application/x-qsharp-data": "\"Success!\"",
      "text/plain": [
       "Success!"
      ]
     },
     "execution_count": 50,
     "metadata": {},
     "output_type": "execute_result"
    }
   ],
   "source": [
    "%kata T14_Test\n",
    "\n",
    "open Microsoft.Quantum.Convert;\n",
    "open Microsoft.Quantum.Math;\n",
    "\n",
    "function Task14 (φ : Double) : ((Qubit => Unit is Adj+Ctl), (Qubit => Unit is Adj)) {\n",
    "    // Hint: Do not try to create a pair that will give φ exactly. Instead, consider the following questions:\n",
    "    //       When does QPE procedure fail? What can you do to make sure it does not fail on the unitaries you return?\n",
    "    // ...\n",
    "    \n",
    "    let phase = IntAsDouble(Round(φ * 256.0))/256.0;\n",
    "    let theta = 2.0 * 3.1415926535 * phase; // Dunno why PI doesn't work...\n",
    "    \n",
    "    return (R1(theta, _), X);\n",
    "}"
   ]
  }
 ],
 "metadata": {
  "kernelspec": {
   "display_name": "Q#",
   "language": "qsharp",
   "name": "iqsharp"
  },
  "language_info": {
   "file_extension": ".qs",
   "mimetype": "text/x-qsharp",
   "name": "qsharp",
   "version": "0.14"
  }
 },
 "nbformat": 4,
 "nbformat_minor": 2
}
