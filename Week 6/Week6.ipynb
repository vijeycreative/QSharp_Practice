{
 "cells": [
  {
   "cell_type": "markdown",
   "metadata": {},
   "source": [
    "# Week 6\n",
    "\n",
    "This is the set of programming assignments for week 6.\n",
    "    \n",
    "\n",
    "The tasks cover the following topics:\n",
    "- quantum Fourier transform\n",
    "\n",
    "We recommend to solve the following katas before doing these assignments:\n",
    "- QFT\n",
    "\n",
    "from https://github.com/Microsoft/QuantumKatas.\n",
    "\n",
    "We recommend to use the tool https://oreilly-qc.github.io/ for visualizing effects of Fourier transfor (examples from chapter 7 cover Fourier transform).\n",
    "Note that `invQFT()` method of that tool corresponds to the Q# library operation `QFTLE`, and `QFT()` method - to `Adjoint QFTLE`.\n",
    "\n",
    "    \n",
    "> All tasks in this assignment assume register in little-endian format (the least significant bit is stored first). This matches the indices used in DumpMachine output. For example, if you have two qubits in state $|qs[0], qs[1]\\rangle = |01\\rangle$, this register is in state $|2\\rangle$."
   ]
  },
  {
   "cell_type": "markdown",
   "metadata": {},
   "source": [
    "## Part I. Preparing periodic states\n",
    "\n",
    "\n",
    "In these tasks, we ask you to prepare the given state using quantum Fourier transform.\n",
    "You do not need to implement QFT yourself; you can use existing library operation `QFTLE`.\n",
    "In all tasks you should apply QFT to the whole register (not parts of it): `QFTLE(LittleEndian(qs));`"
   ]
  },
  {
   "cell_type": "markdown",
   "metadata": {},
   "source": [
    "### Task 1.1. \n",
    "**Input:** n qubits in the $|0...0\\rangle$ state ($n \\ge 2$).\n",
    "\n",
    "**Goal:** create the following state on these qubits: $\\frac1{\\sqrt{N}} \\sum_{k} exp(2\\pi ik/N) |k\\rangle$, where $N = 2^n$.\n",
    "\n",
    "> For example, for $n = 2$ $N = 4$, and the goal state is $\\frac12 \\big(|0\\rangle + i|1\\rangle - |2\\rangle - i|3\\rangle\\big)$."
   ]
  },
  {
   "cell_type": "code",
   "execution_count": 14,
   "metadata": {},
   "outputs": [
    {
     "data": {
      "application/x-qsharp-data": "\"Success!\"",
      "text/plain": [
       "Success!"
      ]
     },
     "execution_count": 14,
     "metadata": {},
     "output_type": "execute_result"
    }
   ],
   "source": [
    "%kata T11_Test\n",
    "\n",
    "open Microsoft.Quantum.Canon;\n",
    "open Microsoft.Quantum.Arithmetic;\n",
    "\n",
    "operation Task11 (qs : Qubit[]) : Unit {\n",
    "    // Hint: Which basis state can be mapped to this state using QFT?\n",
    "\n",
    "    X(qs[0]);\n",
    "    QFTLE(LittleEndian(qs));\n",
    "}"
   ]
  },
  {
   "cell_type": "markdown",
   "metadata": {},
   "source": [
    "### Task 1.2. \n",
    "**Input:** n qubits in the $|0...0\\rangle$ state ($n \\ge 2$).\n",
    "\n",
    "**Goal:** create an equal superposition of all odd states on these qubits: $\\frac1{\\sqrt{2^{n-1}}} \\big(|1\\rangle + |3\\rangle + ... + |2^n-1\\rangle\\big)$.\n",
    "\n",
    "> For example, for $n = 2$ the goal state is $\\frac1{\\sqrt{2}} \\big(|1\\rangle + |3\\rangle\\big)$.\n",
    "\n",
    "Note that this task is very easy to do directly; same as in the rest of the state preparation tasks, the last operation you do one the qubits should be QFTLE."
   ]
  },
  {
   "cell_type": "code",
   "execution_count": 16,
   "metadata": {},
   "outputs": [
    {
     "data": {
      "application/x-qsharp-data": "\"Success!\"",
      "text/plain": [
       "Success!"
      ]
     },
     "execution_count": 16,
     "metadata": {},
     "output_type": "execute_result"
    }
   ],
   "source": [
    "%kata T12_Test\n",
    "open Microsoft.Quantum.Canon;\n",
    "open Microsoft.Quantum.Arrays;\n",
    "open Microsoft.Quantum.Arithmetic;\n",
    "\n",
    "operation Task12 (qs : Qubit[]) : Unit {\n",
    "    // Hint: Which superposition of two basis states can be mapped to this state using QFT?\n",
    "\n",
    "    // ...\n",
    "    H(Tail(qs));\n",
    "    Z(Tail(qs));\n",
    "    QFTLE(LittleEndian(qs));\n",
    "}"
   ]
  },
  {
   "cell_type": "markdown",
   "metadata": {},
   "source": [
    "### Task 1.3. \n",
    "**Input:** n qubits in the $|0...0\\rangle$ state ($n \\ge 2$).\n",
    "\n",
    "**Goal:** create the following state on these qubits: $\\frac1{\\sqrt{2^{n-1}}} \\sum_k \\cos{\\frac{2\\pi k}{N}} |k\\rangle$, where $N = 2^n$.\n",
    "\n",
    "> For example, for $n = 2 N = 4$, and the goal state is $\\frac1{\\sqrt{2}} \\big(\\cos{0}|0\\rangle + \\cos\\frac{\\pi}{2}|1\\rangle + \\cos{\\pi}|2\\rangle + \\cos\\frac{3\\pi}{2}|3\\rangle\\big) = \\frac1{\\sqrt{2}} \\big(|0\\rangle - |2\\rangle\\big)$."
   ]
  },
  {
   "cell_type": "code",
   "execution_count": 18,
   "metadata": {},
   "outputs": [
    {
     "data": {
      "application/x-qsharp-data": "\"Success!\"",
      "text/plain": [
       "Success!"
      ]
     },
     "execution_count": 18,
     "metadata": {},
     "output_type": "execute_result"
    }
   ],
   "source": [
    "%kata T13_Test\n",
    "\n",
    "open Microsoft.Quantum.Canon;\n",
    "open Microsoft.Quantum.Arithmetic;\n",
    "\n",
    "operation Task13 (qs : Qubit[]) : Unit {\n",
    "    // Hint: Which superposition of two basis states can be mapped to this state using QFT?\n",
    "\n",
    "    X(qs[0]);\n",
    "    H(qs[1]);\n",
    "    \n",
    "    for i in 2 .. Length(qs) - 1 {\n",
    "        CNOT(qs[1], qs[i]);\n",
    "    }\n",
    "    QFTLE(LittleEndian(qs));\n",
    "}"
   ]
  },
  {
   "cell_type": "markdown",
   "metadata": {},
   "source": [
    "###  Task 1.4. \n",
    "**Input:** n qubits in the $|0...0\\rangle$ state ($n \\ge 2$).\n",
    "\n",
    "**Goal:** create the following state on these qubits: $\\frac1{\\sqrt{2^{n-1}}} \\sum_k \\sin{\\frac{2 \\pi k}{N}} |k\\rangle$, where $N = 2^n$.\n",
    "\n",
    "> For example, for $n = 2$ $N = 4$, and the goal state is $\\frac1{\\sqrt{2}} \\big(\\sin{0}|0\\rangle + \\sin{\\frac{\\pi}{2}}|1\\rangle + \\sin{\\pi}|)|2\\rangle + \\sin{\\frac{3\\pi}{2}}|3\\rangle\\big) = \\frac1{\\sqrt{2}} \\big(|1\\rangle - |3\\rangle\\big)$."
   ]
  },
  {
   "cell_type": "code",
   "execution_count": 19,
   "metadata": {},
   "outputs": [
    {
     "data": {
      "application/x-qsharp-data": "\"Success!\"",
      "text/plain": [
       "Success!"
      ]
     },
     "execution_count": 19,
     "metadata": {},
     "output_type": "execute_result"
    }
   ],
   "source": [
    "%kata T14_Test\n",
    "\n",
    "open Microsoft.Quantum.Canon;\n",
    "open Microsoft.Quantum.Arithmetic;\n",
    "\n",
    "operation Task14 (qs : Qubit[]) : Unit {\n",
    "    // Hint: Remember that you need to prepare this state up to a global phase.\n",
    "\n",
    "    X(qs[0]);\n",
    "    H(qs[1]);\n",
    "    \n",
    "    for i in 2 .. Length(qs) - 1 {\n",
    "        CNOT(qs[1], qs[i]);\n",
    "    }\n",
    "    Z(qs[1]);\n",
    "    QFTLE(LittleEndian(qs));\n",
    "}"
   ]
  },
  {
   "cell_type": "markdown",
   "metadata": {},
   "source": [
    "## Part II. Analyzing periodic states"
   ]
  },
  {
   "cell_type": "markdown",
   "metadata": {},
   "source": [
    "### Task 2.1.\n",
    "**Inputs:**\n",
    "1. `n` qubits in a state $\\frac1{\\sqrt{N}} \\sum_{k} exp \\frac{2 \\pi ikF}{N} |k\\rangle$, where $N = 2^n$.\n",
    "2. two integers $f0$ and $f1$ ($0 ≤ f0 < f1 ≤ n - 1$).\n",
    "\n",
    "You are guaranteed that the integer F that defines the state equals either $2^{f0}$ or $2^{f1}$.\n",
    "\n",
    "**Goal:** return `0` if $F = 2^{f0}$ or `1` if $F = 2^{f1}$."
   ]
  },
  {
   "cell_type": "code",
   "execution_count": 53,
   "metadata": {},
   "outputs": [
    {
     "data": {
      "application/x-qsharp-data": "\"Success!\"",
      "text/plain": [
       "Success!"
      ]
     },
     "execution_count": 53,
     "metadata": {},
     "output_type": "execute_result"
    }
   ],
   "source": [
    "%kata T21_Test\n",
    "\n",
    "open Microsoft.Quantum.Math;\n",
    "open Microsoft.Quantum.Canon;\n",
    "open Microsoft.Quantum.Arithmetic;\n",
    "open Microsoft.Quantum.Convert;\n",
    "\n",
    "operation Task21 (qs : Qubit[], f0 : Int, f1 : Int) : Int {\n",
    "    // ...\n",
    "    \n",
    "    Adjoint QFTLE(LittleEndian(qs));\n",
    "    let num = MeasureInteger(LittleEndian(qs));\n",
    "    return (num == PowI(2, f0)) ? 0 | 1;\n",
    "}"
   ]
  }
 ],
 "metadata": {
  "kernelspec": {
   "display_name": "Q#",
   "language": "qsharp",
   "name": "iqsharp"
  },
  "language_info": {
   "file_extension": ".qs",
   "mimetype": "text/x-qsharp",
   "name": "qsharp",
   "version": "0.14"
  }
 },
 "nbformat": 4,
 "nbformat_minor": 2
}
